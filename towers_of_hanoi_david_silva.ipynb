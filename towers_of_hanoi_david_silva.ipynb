{
 "cells": [
  {
   "cell_type": "markdown",
   "metadata": {},
   "source": [
    "## Task: The towers of Hanoi\n",
    "# by: David Silva Troya\n"
   ]
  },
  {
   "cell_type": "markdown",
   "metadata": {},
   "source": [
    "The first part is import all the necesaries libraries:"
   ]
  },
  {
   "cell_type": "code",
   "execution_count": null,
   "metadata": {},
   "outputs": [],
   "source": [
    "import random       # To make random colors for the towers\n",
    "import time         # For the animation \n",
    "import tkinter      # "
   ]
  }
 ],
 "metadata": {
  "kernelspec": {
   "display_name": "Python 3.10.7 ('AI_GUI_env': venv)",
   "language": "python",
   "name": "python3"
  },
  "language_info": {
   "name": "python",
   "version": "3.10.7"
  },
  "orig_nbformat": 4,
  "vscode": {
   "interpreter": {
    "hash": "abfaac46a5e5ad62b9535779f89309c76eaf6e7b9aa262c9130ff71780aac283"
   }
  }
 },
 "nbformat": 4,
 "nbformat_minor": 2
}
